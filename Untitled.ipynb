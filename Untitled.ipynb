{
 "cells": [
  {
   "cell_type": "code",
   "execution_count": null,
   "metadata": {
    "collapsed": true
   },
   "outputs": [],
   "source": [
    "!sudo /etc/init.d/nginx restart"
   ]
  },
  {
   "cell_type": "code",
   "execution_count": null,
   "metadata": {
    "collapsed": true
   },
   "outputs": [],
   "source": [
    "!gunicorn --bind='0.0.0.0:8080' -D hello:hello_app"
   ]
  },
  {
   "cell_type": "code",
   "execution_count": null,
   "metadata": {
    "collapsed": true
   },
   "outputs": [],
   "source": [
    "!curl -vv '127.0.0.1:8080/?a=1&a=2&b=3'"
   ]
  },
  {
   "cell_type": "code",
   "execution_count": null,
   "metadata": {
    "collapsed": true
   },
   "outputs": [],
   "source": [
    "!curl -vv 127.0.0.1/hello/?a=b "
   ]
  },
  {
   "cell_type": "code",
   "execution_count": null,
   "metadata": {
    "collapsed": true
   },
   "outputs": [],
   "source": [
    "def hello_app(environ, start_response):\n",
    "    body = [bytes(i + '\\n', 'ascii') for i in environ['QUERY_STRING'].split('&')]\n",
    "    qs = environ['QUERY_STRING'].\n",
    "    ls = qs.split(\"&\")\n",
    "    status = '200 OK'\n",
    "    response_headers = [\n",
    "        ('Content-type', 'text/plain')\n",
    "    ]\n",
    "    start_response(status, response_headers)\n",
    "    return [ \"\\n\".join(ls).encode('utf-8') ]"
   ]
  },
  {
   "cell_type": "code",
   "execution_count": null,
   "metadata": {
    "collapsed": true
   },
   "outputs": [],
   "source": [
    "\n",
    "\n",
    "body = [bytes(i + '\\n', 'ascii') for i in environ['QUERY_STRING'].split('&')]\n",
    "qs = environ['QUERY_STRING']\n",
    "ls = qs.split(\"&\")\n",
    "status = '200 OK'\n",
    "response_headers = [('Content-type', 'text/plain')]\n",
    "start_response(status, response_headers)\n",
    "[ \"\\n\".join(ls).encode('utf-8') ]"
   ]
  },
  {
   "cell_type": "code",
   "execution_count": 6,
   "metadata": {},
   "outputs": [
    {
     "name": "stdout",
     "output_type": "stream",
     "text": [
      "?a=1&a=2&b=3\n"
     ]
    }
   ],
   "source": [
    "qs = '?a=1&a=2&b=3'\n",
    "print(qs)"
   ]
  },
  {
   "cell_type": "code",
   "execution_count": 8,
   "metadata": {},
   "outputs": [
    {
     "name": "stdout",
     "output_type": "stream",
     "text": [
      "['?a=1', 'a=2', 'b=3']\n"
     ]
    }
   ],
   "source": [
    "ls = qs.split(\"&\")\n",
    "print(ls)"
   ]
  },
  {
   "cell_type": "code",
   "execution_count": 9,
   "metadata": {},
   "outputs": [
    {
     "name": "stdout",
     "output_type": "stream",
     "text": [
      "?a=1\n",
      "a=2\n",
      "b=3\n"
     ]
    }
   ],
   "source": [
    "d1 = \"\\n\".join(ls)\n",
    "print(d1)"
   ]
  },
  {
   "cell_type": "code",
   "execution_count": 14,
   "metadata": {},
   "outputs": [
    {
     "name": "stdout",
     "output_type": "stream",
     "text": [
      "?a=1\n",
      "a=2\n",
      "b=3\n"
     ]
    }
   ],
   "source": [
    "d2 = bytes(d1)\n",
    "print(d2)"
   ]
  },
  {
   "cell_type": "code",
   "execution_count": null,
   "metadata": {
    "collapsed": true
   },
   "outputs": [],
   "source": []
  }
 ],
 "metadata": {
  "kernelspec": {
   "display_name": "Python 2",
   "language": "python",
   "name": "python2"
  },
  "language_info": {
   "codemirror_mode": {
    "name": "ipython",
    "version": 2
   },
   "file_extension": ".py",
   "mimetype": "text/x-python",
   "name": "python",
   "nbconvert_exporter": "python",
   "pygments_lexer": "ipython2",
   "version": "2.7.13"
  }
 },
 "nbformat": 4,
 "nbformat_minor": 2
}
