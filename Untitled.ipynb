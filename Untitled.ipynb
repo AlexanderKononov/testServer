{
 "cells": [
  {
   "cell_type": "code",
   "execution_count": null,
   "metadata": {
    "collapsed": true
   },
   "outputs": [],
   "source": [
    "!sudo /etc/init.d/nginx restart"
   ]
  },
  {
   "cell_type": "code",
   "execution_count": null,
   "metadata": {
    "collapsed": true
   },
   "outputs": [],
   "source": [
    "!gunicorn --bind='0.0.0.0:8080' -D hello:hello_app"
   ]
  },
  {
   "cell_type": "code",
   "execution_count": null,
   "metadata": {
    "collapsed": true
   },
   "outputs": [],
   "source": [
    "!curl -vv '127.0.0.1:8080/?a=1&a=2&b=3'"
   ]
  },
  {
   "cell_type": "code",
   "execution_count": null,
   "metadata": {
    "collapsed": true
   },
   "outputs": [],
   "source": [
    "!curl -vv 127.0.0.1/hello/?a=b "
   ]
  },
  {
   "cell_type": "code",
   "execution_count": null,
   "metadata": {
    "collapsed": true
   },
   "outputs": [],
   "source": [
    "def hello_app(environ, start_response):\n",
    "    body = [bytes(i + '\\n', 'ascii') for i in environ['QUERY_STRING'].split('&')]\n",
    "    qs = environ['QUERY_STRING'].\n",
    "    ls = qs.split(\"&\")\n",
    "    status = '200 OK'\n",
    "    response_headers = [\n",
    "        ('Content-type', 'text/plain')\n",
    "    ]\n",
    "    start_response(status, response_headers)\n",
    "    return [ \"\\n\".join(ls).encode('utf-8') ]"
   ]
  },
  {
   "cell_type": "code",
   "execution_count": null,
   "metadata": {
    "collapsed": true
   },
   "outputs": [],
   "source": [
    "\n",
    "\n",
    "body = [bytes(i + '\\n', 'ascii') for i in environ['QUERY_STRING'].split('&')]\n",
    "qs = environ['QUERY_STRING']\n",
    "ls = qs.split(\"&\")\n",
    "status = '200 OK'\n",
    "response_headers = [('Content-type', 'text/plain')]\n",
    "start_response(status, response_headers)\n",
    "[ \"\\n\".join(ls).encode('utf-8') ]"
   ]
  },
  {
   "cell_type": "code",
   "execution_count": 6,
   "metadata": {},
   "outputs": [
    {
     "name": "stdout",
     "output_type": "stream",
     "text": [
      "?a=1&a=2&b=3\n"
     ]
    }
   ],
   "source": [
    "qs = '?a=1&a=2&b=3'\n",
    "print(qs)"
   ]
  },
  {
   "cell_type": "code",
   "execution_count": 8,
   "metadata": {},
   "outputs": [
    {
     "name": "stdout",
     "output_type": "stream",
     "text": [
      "['?a=1', 'a=2', 'b=3']\n"
     ]
    }
   ],
   "source": [
    "ls = qs.split(\"&\")\n",
    "print(ls)"
   ]
  },
  {
   "cell_type": "code",
   "execution_count": 9,
   "metadata": {},
   "outputs": [
    {
     "name": "stdout",
     "output_type": "stream",
     "text": [
      "?a=1\n",
      "a=2\n",
      "b=3\n"
     ]
    }
   ],
   "source": [
    "d1 = \"\\n\".join(ls)\n",
    "print(d1)"
   ]
  },
  {
   "cell_type": "code",
   "execution_count": 14,
   "metadata": {},
   "outputs": [
    {
     "name": "stdout",
     "output_type": "stream",
     "text": [
      "?a=1\n",
      "a=2\n",
      "b=3\n"
     ]
    }
   ],
   "source": [
    "d2 = bytes(d1)\n",
    "print(d2)"
   ]
  },
  {
   "cell_type": "code",
   "execution_count": 30,
   "metadata": {},
   "outputs": [],
   "source": [
    "string = \"Hello World\"\n",
    "arr = bytes(string)\n",
    "arr2 = bytes(string)"
   ]
  },
  {
   "cell_type": "code",
   "execution_count": 35,
   "metadata": {},
   "outputs": [
    {
     "name": "stdout",
     "output_type": "stream",
     "text": [
      "Hello World\n",
      "72\n",
      "101\n",
      "108\n",
      "108\n",
      "111\n",
      "32\n",
      "87\n",
      "111\n",
      "114\n",
      "108\n",
      "100\n"
     ]
    }
   ],
   "source": [
    "print(arr)\n",
    "a=string.encode('utf-8')\n",
    "for i in a:\n",
    "    print(ord(i))"
   ]
  },
  {
   "cell_type": "code",
   "execution_count": 31,
   "metadata": {},
   "outputs": [
    {
     "name": "stdout",
     "output_type": "stream",
     "text": [
      "('H', ' ')\n",
      "('e', ' ')\n",
      "('l', ' ')\n",
      "('l', ' ')\n",
      "('o', ' ')\n",
      "(' ', ' ')\n",
      "('W', ' ')\n",
      "('o', ' ')\n",
      "('r', ' ')\n",
      "('l', ' ')\n",
      "('d', ' ')\n"
     ]
    }
   ],
   "source": [
    "for byte in arr:\n",
    "    print(byte, \" \")"
   ]
  },
  {
   "cell_type": "code",
   "execution_count": 29,
   "metadata": {},
   "outputs": [
    {
     "ename": "TypeError",
     "evalue": "str() takes at most 1 argument (2 given)",
     "output_type": "error",
     "traceback": [
      "\u001b[0;31m---------------------------------------------------------------------------\u001b[0m",
      "\u001b[0;31mTypeError\u001b[0m                                 Traceback (most recent call last)",
      "\u001b[0;32m<ipython-input-29-84d5bd1e5702>\u001b[0m in \u001b[0;36m<module>\u001b[0;34m()\u001b[0m\n\u001b[1;32m      1\u001b[0m \u001b[0mstring\u001b[0m \u001b[0;34m=\u001b[0m \u001b[0;34m\"Hello World\"\u001b[0m\u001b[0;34m\u001b[0m\u001b[0m\n\u001b[0;32m----> 2\u001b[0;31m \u001b[0marr\u001b[0m \u001b[0;34m=\u001b[0m \u001b[0mbytes\u001b[0m\u001b[0;34m(\u001b[0m\u001b[0mstring\u001b[0m\u001b[0;34m,\u001b[0m \u001b[0mencoding\u001b[0m\u001b[0;34m=\u001b[0m\u001b[0;34m'utf-8'\u001b[0m\u001b[0;34m)\u001b[0m\u001b[0;34m\u001b[0m\u001b[0m\n\u001b[0m\u001b[1;32m      3\u001b[0m \u001b[0marr2\u001b[0m \u001b[0;34m=\u001b[0m \u001b[0mbytes\u001b[0m\u001b[0;34m(\u001b[0m\u001b[0mstring\u001b[0m\u001b[0;34m,\u001b[0m \u001b[0mencoding\u001b[0m\u001b[0;34m=\u001b[0m\u001b[0;34m'ascii'\u001b[0m\u001b[0;34m)\u001b[0m\u001b[0;34m\u001b[0m\u001b[0m\n\u001b[1;32m      4\u001b[0m \u001b[0;34m\u001b[0m\u001b[0m\n\u001b[1;32m      5\u001b[0m \u001b[0;32mprint\u001b[0m\u001b[0;34m(\u001b[0m\u001b[0marr\u001b[0m\u001b[0;34m,\u001b[0m\u001b[0;34m'\\n'\u001b[0m\u001b[0;34m)\u001b[0m\u001b[0;34m\u001b[0m\u001b[0m\n",
      "\u001b[0;31mTypeError\u001b[0m: str() takes at most 1 argument (2 given)"
     ]
    }
   ],
   "source": [
    "string = \"Hello World\"\n",
    "arr = bytes(string, encoding='utf-8')\n",
    "arr2 = bytes(string, encoding='ascii')\n",
    "\n",
    "print(arr,'\\n')\n",
    "\n",
    "# actual bytes in the the string\n",
    "for byte in arr:\n",
    "    print(byte, \" \")\n",
    "print(\"\\n\")\n",
    "for byte in arr2:\n",
    "    print(byte, \" \")"
   ]
  },
  {
   "cell_type": "code",
   "execution_count": 45,
   "metadata": {},
   "outputs": [
    {
     "name": "stdout",
     "output_type": "stream",
     "text": [
      "['a=1\\n', 'a=2\\n', 'b=3\\n']\n"
     ]
    }
   ],
   "source": [
    "string='?a=1&a=2&b=3'\n",
    "body=string.replace('?','')\n",
    "body=body.split('&')\n",
    "body = [bytes(i + '\\n') for i in body]\n",
    "print(body)"
   ]
  },
  {
   "cell_type": "code",
   "execution_count": null,
   "metadata": {
    "collapsed": true
   },
   "outputs": [],
   "source": []
  }
 ],
 "metadata": {
  "kernelspec": {
   "display_name": "Python 2",
   "language": "python",
   "name": "python2"
  },
  "language_info": {
   "codemirror_mode": {
    "name": "ipython",
    "version": 2
   },
   "file_extension": ".py",
   "mimetype": "text/x-python",
   "name": "python",
   "nbconvert_exporter": "python",
   "pygments_lexer": "ipython2",
   "version": "2.7.13"
  }
 },
 "nbformat": 4,
 "nbformat_minor": 2
}
